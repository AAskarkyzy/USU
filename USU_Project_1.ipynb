{
  "nbformat": 4,
  "nbformat_minor": 0,
  "metadata": {
    "colab": {
      "provenance": []
    },
    "kernelspec": {
      "name": "python3",
      "display_name": "Python 3"
    },
    "language_info": {
      "name": "python"
    }
  },
  "cells": [
    {
      "cell_type": "markdown",
      "source": [
        "# Import knihoven\n",
        "\n",
        "🔸import pandas as pd\n",
        "\n",
        "Práce s tabulkami (DataFrame): načítání CSV/Excel, čištění, filtrování, groupby, spojování tabulek.\n",
        "\n",
        "🔸import numpy as np\n",
        "\n",
        "Numerika nad poli (array), vektorizované výpočty, náhodné generování, lineární algebra.\n",
        "\n",
        "🔸import matplotlib.pyplot as plt\n",
        "\n",
        "Základní kreslení grafů (čáry, body, histogramy, ROC křivky).\n",
        "\n",
        "🔸import seaborn as sns\n",
        "\n",
        "„Nadstavba“ nad matplotlib → hezčí a pohodlné statistické grafy (heatmapy, boxploty, pairploty).\n",
        "\n",
        "🔸import xgboost as xgb\n",
        "\n",
        "Knihovna XGBoost (gradient boosting stromy): xgb.XGBClassifier, xgb.XGBRegressor, feature importance, rychlý boosting.\n",
        "\n",
        "🔸from sklearn.model_selection import train_test_split, GridSearchCV, RandomizedSearchCV, StratifiedKFold, cross_val_score\n",
        "\n",
        "* train_test_split – rozdělí data na trénovací/testovací sadu.\n",
        "\n",
        "* GridSearchCV – vyzkouší všechny kombinace hyperparametrů (mřížka) s křížovou validací.\n",
        "\n",
        "* RandomizedSearchCV – zkouší náhodné kombinace hyperparametrů (rychlejší než grid).\n",
        "\n",
        "* StratifiedKFold – k-fold CV, která zachovává poměr tříd v každém foldu (pro klasifikaci).\n",
        "\n",
        "* cross_val_score – rychlý výpočet skóre přes křížovou validaci (bez explicitního Grid/Random search).\n",
        "\n",
        "🔸from sklearn.preprocessing import StandardScaler, LabelEncoder\n",
        "\n",
        "* StandardScaler – standardizace numerických znaků (průměr 0, směrodatná odchylka 1).\n",
        "\n",
        "* LabelEncoder – převod kategoriálního cíle (y) na čísla 0,1,2… (pro vstupní X je vhodnější OneHotEncoder).\n",
        "\n",
        "🔸from sklearn.linear_model import LinearRegression, LogisticRegression\n",
        "\n",
        "* LinearRegression – regrese pro spojitou cílovku (MSE, R²).\n",
        "\n",
        "* LogisticRegression – binární/multitřídní klasifikace (pravděpodobnosti přes sigmoid/softmax).\n",
        "\n",
        "🔸from sklearn.ensemble import RandomForestRegressor, RandomForestClassifier\n",
        "\n",
        "* RandomForestRegressor – regrese pomocí náhodného lesa (průměr predikcí stromů).\n",
        "\n",
        "* RandomForestClassifier – klasifikace pomocí náhodného lesa (hlasování stromů).\n",
        "\n",
        "🔸from sklearn.metrics import mean_squared_error, r2_score, classification_report, accuracy_score, f1_score, roc_auc_score, precision_score, recall_score, make_scorer, roc_curve\n",
        "\n",
        "* mean_squared_error (MSE) – průměr čtvercových chyb (pro regresi).\n",
        "\n",
        "* r2_score (R²) – vysvětlená variabilita (regrese).\n",
        "\n",
        "* classification_report – souhrnná tabulka precision/recall/F1/support po třídách.\n",
        "\n",
        "* accuracy_score – podíl správných predikcí.\n",
        "\n",
        "* f1_score – harmonický průměr precision a recall.\n",
        "\n",
        "* roc_auc_score – plocha pod ROC křivkou (AUC).\n",
        "\n",
        "* precision_score – přesnost „když řeknu 1, jak často mám pravdu“.\n",
        "\n",
        "* recall_score – citlivost „kolik jedniček jsem našel“.\n",
        "\n",
        "* make_scorer – vytvoří vlastní metrickou funkci pro Grid/RandomSearchCV (např. F1 s váhami).\n",
        "\n",
        "* roc_curve – vypočte body ROC křivky (FPR/TPR pro různé thresholdy).\n",
        "\n",
        "🔸from sklearn.pipeline import Pipeline\n",
        "\n",
        "Řetězení kroků do jednoho objektu (např. StandardScaler → model). Zajišťuje správné fit/transform v CV.\n",
        "\n",
        "🔸from scipy.stats import randint\n",
        "\n",
        "Rozdělení celočíselných hodnot pro RandomizedSearchCV (např. náhodný výběr n_estimators v intervalu).\n",
        "\n",
        "🔸from sklearn.metrics import confusion_matrix, ConfusionMatrixDisplay\n",
        "\n",
        "* confusion_matrix – matice záměn (TP, FP, FN, TN).\n",
        "\n",
        "* ConfusionMatrixDisplay – pohodlné vykreslení matice záměn jako heatmapy."
      ],
      "metadata": {
        "id": "ZYHPVrLfk380"
      }
    },
    {
      "cell_type": "code",
      "execution_count": 2,
      "metadata": {
        "id": "nnCd7BRsNcQB"
      },
      "outputs": [],
      "source": [
        "# 1. Import knihoven\n",
        "\n",
        "import pandas as pd\n",
        "import numpy as np\n",
        "import matplotlib.pyplot as plt\n",
        "import seaborn as sns\n",
        "import xgboost as xgb\n",
        "from sklearn.model_selection import train_test_split, GridSearchCV, RandomizedSearchCV, StratifiedKFold, cross_val_score\n",
        "from sklearn.preprocessing import StandardScaler, LabelEncoder\n",
        "from sklearn.linear_model import LinearRegression, LogisticRegression\n",
        "from sklearn.ensemble import RandomForestRegressor, RandomForestClassifier\n",
        "from sklearn.metrics import mean_squared_error, r2_score, classification_report, accuracy_score, f1_score, roc_auc_score, precision_score, recall_score, make_scorer, roc_curve\n",
        "from sklearn.pipeline import Pipeline\n",
        "from scipy.stats import randint\n",
        "from sklearn.metrics import confusion_matrix, ConfusionMatrixDisplay"
      ]
    },
    {
      "cell_type": "markdown",
      "source": [
        "# Import dat"
      ],
      "metadata": {
        "id": "TJeBcHwGq4Lu"
      }
    },
    {
      "cell_type": "code",
      "source": [
        "!pip install kaggle\n",
        "\n",
        "!mkdir ~/.kaggle\n",
        "\n",
        "!cp kaggle.json ~/.kaggle/\n",
        "\n",
        "!chmod 600 ~/.kaggle/kaggle.json\n"
      ],
      "metadata": {
        "colab": {
          "base_uri": "https://localhost:8080/"
        },
        "id": "iLeQ9TFzQsaS",
        "outputId": "bd65db0c-bfda-4f6c-cd53-ce9487acfe05"
      },
      "execution_count": 3,
      "outputs": [
        {
          "output_type": "stream",
          "name": "stdout",
          "text": [
            "Requirement already satisfied: kaggle in /usr/local/lib/python3.12/dist-packages (1.7.4.5)\n",
            "Requirement already satisfied: bleach in /usr/local/lib/python3.12/dist-packages (from kaggle) (6.2.0)\n",
            "Requirement already satisfied: certifi>=14.05.14 in /usr/local/lib/python3.12/dist-packages (from kaggle) (2025.8.3)\n",
            "Requirement already satisfied: charset-normalizer in /usr/local/lib/python3.12/dist-packages (from kaggle) (3.4.3)\n",
            "Requirement already satisfied: idna in /usr/local/lib/python3.12/dist-packages (from kaggle) (3.10)\n",
            "Requirement already satisfied: protobuf in /usr/local/lib/python3.12/dist-packages (from kaggle) (5.29.5)\n",
            "Requirement already satisfied: python-dateutil>=2.5.3 in /usr/local/lib/python3.12/dist-packages (from kaggle) (2.9.0.post0)\n",
            "Requirement already satisfied: python-slugify in /usr/local/lib/python3.12/dist-packages (from kaggle) (8.0.4)\n",
            "Requirement already satisfied: requests in /usr/local/lib/python3.12/dist-packages (from kaggle) (2.32.4)\n",
            "Requirement already satisfied: setuptools>=21.0.0 in /usr/local/lib/python3.12/dist-packages (from kaggle) (75.2.0)\n",
            "Requirement already satisfied: six>=1.10 in /usr/local/lib/python3.12/dist-packages (from kaggle) (1.17.0)\n",
            "Requirement already satisfied: text-unidecode in /usr/local/lib/python3.12/dist-packages (from kaggle) (1.3)\n",
            "Requirement already satisfied: tqdm in /usr/local/lib/python3.12/dist-packages (from kaggle) (4.67.1)\n",
            "Requirement already satisfied: urllib3>=1.15.1 in /usr/local/lib/python3.12/dist-packages (from kaggle) (2.5.0)\n",
            "Requirement already satisfied: webencodings in /usr/local/lib/python3.12/dist-packages (from kaggle) (0.5.1)\n"
          ]
        }
      ]
    },
    {
      "cell_type": "code",
      "source": [
        "!kaggle datasets download -d zeeshier/weather-forecast-dataset"
      ],
      "metadata": {
        "colab": {
          "base_uri": "https://localhost:8080/"
        },
        "id": "6g8MGtHORBp5",
        "outputId": "f18e5817-627e-48c6-966c-407b2386a503"
      },
      "execution_count": 4,
      "outputs": [
        {
          "output_type": "stream",
          "name": "stdout",
          "text": [
            "Dataset URL: https://www.kaggle.com/datasets/zeeshier/weather-forecast-dataset\n",
            "License(s): CC0-1.0\n",
            "Downloading weather-forecast-dataset.zip to /content\n",
            "  0% 0.00/114k [00:00<?, ?B/s]\n",
            "100% 114k/114k [00:00<00:00, 241MB/s]\n"
          ]
        }
      ]
    },
    {
      "cell_type": "code",
      "source": [
        "!unzip weather-forecast-dataset.zip"
      ],
      "metadata": {
        "colab": {
          "base_uri": "https://localhost:8080/"
        },
        "id": "B9Pd--rFRH2T",
        "outputId": "35e3619d-d598-4eee-d085-91faaf4254a2"
      },
      "execution_count": 5,
      "outputs": [
        {
          "output_type": "stream",
          "name": "stdout",
          "text": [
            "Archive:  weather-forecast-dataset.zip\n",
            "  inflating: weather_forecast_data.csv  \n"
          ]
        }
      ]
    },
    {
      "cell_type": "code",
      "source": [
        "!ls"
      ],
      "metadata": {
        "colab": {
          "base_uri": "https://localhost:8080/"
        },
        "id": "n2J0bPOIRIwM",
        "outputId": "51b070a3-c056-4489-85ae-6a5ee970753a"
      },
      "execution_count": 6,
      "outputs": [
        {
          "output_type": "stream",
          "name": "stdout",
          "text": [
            "kaggle.json  weather_forecast_data.csv\n",
            "sample_data  weather-forecast-dataset.zip\n"
          ]
        }
      ]
    },
    {
      "cell_type": "markdown",
      "source": [
        "# Načtení a příprava datasetu"
      ],
      "metadata": {
        "id": "0VvOfXk1_ruF"
      }
    },
    {
      "cell_type": "code",
      "source": [
        "df = pd.read_csv(\"weather_forecast_data.csv\")\n",
        "\n",
        "print(\"Shape:\", df.shape)\n",
        "df.head()"
      ],
      "metadata": {
        "colab": {
          "base_uri": "https://localhost:8080/",
          "height": 223
        },
        "id": "QhSLSL_SNlUe",
        "outputId": "ed9283ea-5c0d-4e0f-9291-4dc82d07fb4f"
      },
      "execution_count": 7,
      "outputs": [
        {
          "output_type": "stream",
          "name": "stdout",
          "text": [
            "Shape: (2500, 6)\n"
          ]
        },
        {
          "output_type": "execute_result",
          "data": {
            "text/plain": [
              "   Temperature   Humidity  Wind_Speed  Cloud_Cover     Pressure     Rain\n",
              "0    23.720338  89.592641    7.335604    50.501694  1032.378759     rain\n",
              "1    27.879734  46.489704    5.952484     4.990053   992.614190  no rain\n",
              "2    25.069084  83.072843    1.371992    14.855784  1007.231620  no rain\n",
              "3    23.622080  74.367758    7.050551    67.255282   982.632013     rain\n",
              "4    20.591370  96.858822    4.643921    47.676444   980.825142  no rain"
            ],
            "text/html": [
              "\n",
              "  <div id=\"df-a7b9a497-58e6-4ac3-8e9e-02c14997c541\" class=\"colab-df-container\">\n",
              "    <div>\n",
              "<style scoped>\n",
              "    .dataframe tbody tr th:only-of-type {\n",
              "        vertical-align: middle;\n",
              "    }\n",
              "\n",
              "    .dataframe tbody tr th {\n",
              "        vertical-align: top;\n",
              "    }\n",
              "\n",
              "    .dataframe thead th {\n",
              "        text-align: right;\n",
              "    }\n",
              "</style>\n",
              "<table border=\"1\" class=\"dataframe\">\n",
              "  <thead>\n",
              "    <tr style=\"text-align: right;\">\n",
              "      <th></th>\n",
              "      <th>Temperature</th>\n",
              "      <th>Humidity</th>\n",
              "      <th>Wind_Speed</th>\n",
              "      <th>Cloud_Cover</th>\n",
              "      <th>Pressure</th>\n",
              "      <th>Rain</th>\n",
              "    </tr>\n",
              "  </thead>\n",
              "  <tbody>\n",
              "    <tr>\n",
              "      <th>0</th>\n",
              "      <td>23.720338</td>\n",
              "      <td>89.592641</td>\n",
              "      <td>7.335604</td>\n",
              "      <td>50.501694</td>\n",
              "      <td>1032.378759</td>\n",
              "      <td>rain</td>\n",
              "    </tr>\n",
              "    <tr>\n",
              "      <th>1</th>\n",
              "      <td>27.879734</td>\n",
              "      <td>46.489704</td>\n",
              "      <td>5.952484</td>\n",
              "      <td>4.990053</td>\n",
              "      <td>992.614190</td>\n",
              "      <td>no rain</td>\n",
              "    </tr>\n",
              "    <tr>\n",
              "      <th>2</th>\n",
              "      <td>25.069084</td>\n",
              "      <td>83.072843</td>\n",
              "      <td>1.371992</td>\n",
              "      <td>14.855784</td>\n",
              "      <td>1007.231620</td>\n",
              "      <td>no rain</td>\n",
              "    </tr>\n",
              "    <tr>\n",
              "      <th>3</th>\n",
              "      <td>23.622080</td>\n",
              "      <td>74.367758</td>\n",
              "      <td>7.050551</td>\n",
              "      <td>67.255282</td>\n",
              "      <td>982.632013</td>\n",
              "      <td>rain</td>\n",
              "    </tr>\n",
              "    <tr>\n",
              "      <th>4</th>\n",
              "      <td>20.591370</td>\n",
              "      <td>96.858822</td>\n",
              "      <td>4.643921</td>\n",
              "      <td>47.676444</td>\n",
              "      <td>980.825142</td>\n",
              "      <td>no rain</td>\n",
              "    </tr>\n",
              "  </tbody>\n",
              "</table>\n",
              "</div>\n",
              "    <div class=\"colab-df-buttons\">\n",
              "\n",
              "  <div class=\"colab-df-container\">\n",
              "    <button class=\"colab-df-convert\" onclick=\"convertToInteractive('df-a7b9a497-58e6-4ac3-8e9e-02c14997c541')\"\n",
              "            title=\"Convert this dataframe to an interactive table.\"\n",
              "            style=\"display:none;\">\n",
              "\n",
              "  <svg xmlns=\"http://www.w3.org/2000/svg\" height=\"24px\" viewBox=\"0 -960 960 960\">\n",
              "    <path d=\"M120-120v-720h720v720H120Zm60-500h600v-160H180v160Zm220 220h160v-160H400v160Zm0 220h160v-160H400v160ZM180-400h160v-160H180v160Zm440 0h160v-160H620v160ZM180-180h160v-160H180v160Zm440 0h160v-160H620v160Z\"/>\n",
              "  </svg>\n",
              "    </button>\n",
              "\n",
              "  <style>\n",
              "    .colab-df-container {\n",
              "      display:flex;\n",
              "      gap: 12px;\n",
              "    }\n",
              "\n",
              "    .colab-df-convert {\n",
              "      background-color: #E8F0FE;\n",
              "      border: none;\n",
              "      border-radius: 50%;\n",
              "      cursor: pointer;\n",
              "      display: none;\n",
              "      fill: #1967D2;\n",
              "      height: 32px;\n",
              "      padding: 0 0 0 0;\n",
              "      width: 32px;\n",
              "    }\n",
              "\n",
              "    .colab-df-convert:hover {\n",
              "      background-color: #E2EBFA;\n",
              "      box-shadow: 0px 1px 2px rgba(60, 64, 67, 0.3), 0px 1px 3px 1px rgba(60, 64, 67, 0.15);\n",
              "      fill: #174EA6;\n",
              "    }\n",
              "\n",
              "    .colab-df-buttons div {\n",
              "      margin-bottom: 4px;\n",
              "    }\n",
              "\n",
              "    [theme=dark] .colab-df-convert {\n",
              "      background-color: #3B4455;\n",
              "      fill: #D2E3FC;\n",
              "    }\n",
              "\n",
              "    [theme=dark] .colab-df-convert:hover {\n",
              "      background-color: #434B5C;\n",
              "      box-shadow: 0px 1px 3px 1px rgba(0, 0, 0, 0.15);\n",
              "      filter: drop-shadow(0px 1px 2px rgba(0, 0, 0, 0.3));\n",
              "      fill: #FFFFFF;\n",
              "    }\n",
              "  </style>\n",
              "\n",
              "    <script>\n",
              "      const buttonEl =\n",
              "        document.querySelector('#df-a7b9a497-58e6-4ac3-8e9e-02c14997c541 button.colab-df-convert');\n",
              "      buttonEl.style.display =\n",
              "        google.colab.kernel.accessAllowed ? 'block' : 'none';\n",
              "\n",
              "      async function convertToInteractive(key) {\n",
              "        const element = document.querySelector('#df-a7b9a497-58e6-4ac3-8e9e-02c14997c541');\n",
              "        const dataTable =\n",
              "          await google.colab.kernel.invokeFunction('convertToInteractive',\n",
              "                                                    [key], {});\n",
              "        if (!dataTable) return;\n",
              "\n",
              "        const docLinkHtml = 'Like what you see? Visit the ' +\n",
              "          '<a target=\"_blank\" href=https://colab.research.google.com/notebooks/data_table.ipynb>data table notebook</a>'\n",
              "          + ' to learn more about interactive tables.';\n",
              "        element.innerHTML = '';\n",
              "        dataTable['output_type'] = 'display_data';\n",
              "        await google.colab.output.renderOutput(dataTable, element);\n",
              "        const docLink = document.createElement('div');\n",
              "        docLink.innerHTML = docLinkHtml;\n",
              "        element.appendChild(docLink);\n",
              "      }\n",
              "    </script>\n",
              "  </div>\n",
              "\n",
              "\n",
              "    <div id=\"df-c37f50c7-1b43-4215-a8a4-ff7f8d62aef6\">\n",
              "      <button class=\"colab-df-quickchart\" onclick=\"quickchart('df-c37f50c7-1b43-4215-a8a4-ff7f8d62aef6')\"\n",
              "                title=\"Suggest charts\"\n",
              "                style=\"display:none;\">\n",
              "\n",
              "<svg xmlns=\"http://www.w3.org/2000/svg\" height=\"24px\"viewBox=\"0 0 24 24\"\n",
              "     width=\"24px\">\n",
              "    <g>\n",
              "        <path d=\"M19 3H5c-1.1 0-2 .9-2 2v14c0 1.1.9 2 2 2h14c1.1 0 2-.9 2-2V5c0-1.1-.9-2-2-2zM9 17H7v-7h2v7zm4 0h-2V7h2v10zm4 0h-2v-4h2v4z\"/>\n",
              "    </g>\n",
              "</svg>\n",
              "      </button>\n",
              "\n",
              "<style>\n",
              "  .colab-df-quickchart {\n",
              "      --bg-color: #E8F0FE;\n",
              "      --fill-color: #1967D2;\n",
              "      --hover-bg-color: #E2EBFA;\n",
              "      --hover-fill-color: #174EA6;\n",
              "      --disabled-fill-color: #AAA;\n",
              "      --disabled-bg-color: #DDD;\n",
              "  }\n",
              "\n",
              "  [theme=dark] .colab-df-quickchart {\n",
              "      --bg-color: #3B4455;\n",
              "      --fill-color: #D2E3FC;\n",
              "      --hover-bg-color: #434B5C;\n",
              "      --hover-fill-color: #FFFFFF;\n",
              "      --disabled-bg-color: #3B4455;\n",
              "      --disabled-fill-color: #666;\n",
              "  }\n",
              "\n",
              "  .colab-df-quickchart {\n",
              "    background-color: var(--bg-color);\n",
              "    border: none;\n",
              "    border-radius: 50%;\n",
              "    cursor: pointer;\n",
              "    display: none;\n",
              "    fill: var(--fill-color);\n",
              "    height: 32px;\n",
              "    padding: 0;\n",
              "    width: 32px;\n",
              "  }\n",
              "\n",
              "  .colab-df-quickchart:hover {\n",
              "    background-color: var(--hover-bg-color);\n",
              "    box-shadow: 0 1px 2px rgba(60, 64, 67, 0.3), 0 1px 3px 1px rgba(60, 64, 67, 0.15);\n",
              "    fill: var(--button-hover-fill-color);\n",
              "  }\n",
              "\n",
              "  .colab-df-quickchart-complete:disabled,\n",
              "  .colab-df-quickchart-complete:disabled:hover {\n",
              "    background-color: var(--disabled-bg-color);\n",
              "    fill: var(--disabled-fill-color);\n",
              "    box-shadow: none;\n",
              "  }\n",
              "\n",
              "  .colab-df-spinner {\n",
              "    border: 2px solid var(--fill-color);\n",
              "    border-color: transparent;\n",
              "    border-bottom-color: var(--fill-color);\n",
              "    animation:\n",
              "      spin 1s steps(1) infinite;\n",
              "  }\n",
              "\n",
              "  @keyframes spin {\n",
              "    0% {\n",
              "      border-color: transparent;\n",
              "      border-bottom-color: var(--fill-color);\n",
              "      border-left-color: var(--fill-color);\n",
              "    }\n",
              "    20% {\n",
              "      border-color: transparent;\n",
              "      border-left-color: var(--fill-color);\n",
              "      border-top-color: var(--fill-color);\n",
              "    }\n",
              "    30% {\n",
              "      border-color: transparent;\n",
              "      border-left-color: var(--fill-color);\n",
              "      border-top-color: var(--fill-color);\n",
              "      border-right-color: var(--fill-color);\n",
              "    }\n",
              "    40% {\n",
              "      border-color: transparent;\n",
              "      border-right-color: var(--fill-color);\n",
              "      border-top-color: var(--fill-color);\n",
              "    }\n",
              "    60% {\n",
              "      border-color: transparent;\n",
              "      border-right-color: var(--fill-color);\n",
              "    }\n",
              "    80% {\n",
              "      border-color: transparent;\n",
              "      border-right-color: var(--fill-color);\n",
              "      border-bottom-color: var(--fill-color);\n",
              "    }\n",
              "    90% {\n",
              "      border-color: transparent;\n",
              "      border-bottom-color: var(--fill-color);\n",
              "    }\n",
              "  }\n",
              "</style>\n",
              "\n",
              "      <script>\n",
              "        async function quickchart(key) {\n",
              "          const quickchartButtonEl =\n",
              "            document.querySelector('#' + key + ' button');\n",
              "          quickchartButtonEl.disabled = true;  // To prevent multiple clicks.\n",
              "          quickchartButtonEl.classList.add('colab-df-spinner');\n",
              "          try {\n",
              "            const charts = await google.colab.kernel.invokeFunction(\n",
              "                'suggestCharts', [key], {});\n",
              "          } catch (error) {\n",
              "            console.error('Error during call to suggestCharts:', error);\n",
              "          }\n",
              "          quickchartButtonEl.classList.remove('colab-df-spinner');\n",
              "          quickchartButtonEl.classList.add('colab-df-quickchart-complete');\n",
              "        }\n",
              "        (() => {\n",
              "          let quickchartButtonEl =\n",
              "            document.querySelector('#df-c37f50c7-1b43-4215-a8a4-ff7f8d62aef6 button');\n",
              "          quickchartButtonEl.style.display =\n",
              "            google.colab.kernel.accessAllowed ? 'block' : 'none';\n",
              "        })();\n",
              "      </script>\n",
              "    </div>\n",
              "\n",
              "    </div>\n",
              "  </div>\n"
            ],
            "application/vnd.google.colaboratory.intrinsic+json": {
              "type": "dataframe",
              "variable_name": "df",
              "summary": "{\n  \"name\": \"df\",\n  \"rows\": 2500,\n  \"fields\": [\n    {\n      \"column\": \"Temperature\",\n      \"properties\": {\n        \"dtype\": \"number\",\n        \"std\": 7.326996316570902,\n        \"min\": 10.001842485827652,\n        \"max\": 34.99521445292413,\n        \"num_unique_values\": 2500,\n        \"samples\": [\n          27.726270245388616,\n          21.034353583312157,\n          22.780544689342165\n        ],\n        \"semantic_type\": \"\",\n        \"description\": \"\"\n      }\n    },\n    {\n      \"column\": \"Humidity\",\n      \"properties\": {\n        \"dtype\": \"number\",\n        \"std\": 19.95473917219594,\n        \"min\": 30.005071474694454,\n        \"max\": 99.99748129798218,\n        \"num_unique_values\": 2500,\n        \"samples\": [\n          32.703593901953234,\n          46.94307300164749,\n          70.2714694704203\n        ],\n        \"semantic_type\": \"\",\n        \"description\": \"\"\n      }\n    },\n    {\n      \"column\": \"Wind_Speed\",\n      \"properties\": {\n        \"dtype\": \"number\",\n        \"std\": 5.780316036232058,\n        \"min\": 0.0098192760008686,\n        \"max\": 19.9991322551545,\n        \"num_unique_values\": 2500,\n        \"samples\": [\n          18.29647347878149,\n          15.470662334837735,\n          0.0354477234681338\n        ],\n        \"semantic_type\": \"\",\n        \"description\": \"\"\n      }\n    },\n    {\n      \"column\": \"Cloud_Cover\",\n      \"properties\": {\n        \"dtype\": \"number\",\n        \"std\": 29.123103660104814,\n        \"min\": 0.0150381080855521,\n        \"max\": 99.99779517807228,\n        \"num_unique_values\": 2500,\n        \"samples\": [\n          22.38770904060304,\n          56.015593685810906,\n          50.07304610270199\n        ],\n        \"semantic_type\": \"\",\n        \"description\": \"\"\n      }\n    },\n    {\n      \"column\": \"Pressure\",\n      \"properties\": {\n        \"dtype\": \"number\",\n        \"std\": 20.19643279398678,\n        \"min\": 980.0144863937444,\n        \"max\": 1049.985593365048,\n        \"num_unique_values\": 2500,\n        \"samples\": [\n          1008.5013134989348,\n          1040.4219578787954,\n          1022.488668342252\n        ],\n        \"semantic_type\": \"\",\n        \"description\": \"\"\n      }\n    },\n    {\n      \"column\": \"Rain\",\n      \"properties\": {\n        \"dtype\": \"category\",\n        \"num_unique_values\": 2,\n        \"samples\": [\n          \"no rain\",\n          \"rain\"\n        ],\n        \"semantic_type\": \"\",\n        \"description\": \"\"\n      }\n    }\n  ]\n}"
            }
          },
          "metadata": {},
          "execution_count": 7
        }
      ]
    },
    {
      "cell_type": "code",
      "source": [
        "# 3. Základní info a čištění dat\n",
        "\n",
        "df.info()\n",
        "print(df.isna().sum())\n",
        "\n",
        "# odstranění nebo doplnění NaN\n",
        "df = df.dropna()"
      ],
      "metadata": {
        "colab": {
          "base_uri": "https://localhost:8080/"
        },
        "id": "SL_rMtOrOD1B",
        "outputId": "23d514c8-821a-44d8-c1d5-bb15b542cfed"
      },
      "execution_count": 8,
      "outputs": [
        {
          "output_type": "stream",
          "name": "stdout",
          "text": [
            "<class 'pandas.core.frame.DataFrame'>\n",
            "RangeIndex: 2500 entries, 0 to 2499\n",
            "Data columns (total 6 columns):\n",
            " #   Column       Non-Null Count  Dtype  \n",
            "---  ------       --------------  -----  \n",
            " 0   Temperature  2500 non-null   float64\n",
            " 1   Humidity     2500 non-null   float64\n",
            " 2   Wind_Speed   2500 non-null   float64\n",
            " 3   Cloud_Cover  2500 non-null   float64\n",
            " 4   Pressure     2500 non-null   float64\n",
            " 5   Rain         2500 non-null   object \n",
            "dtypes: float64(5), object(1)\n",
            "memory usage: 117.3+ KB\n",
            "Temperature    0\n",
            "Humidity       0\n",
            "Wind_Speed     0\n",
            "Cloud_Cover    0\n",
            "Pressure       0\n",
            "Rain           0\n",
            "dtype: int64\n"
          ]
        }
      ]
    },
    {
      "cell_type": "markdown",
      "source": [
        "# Exploratory Data Analysis (EDA)"
      ],
      "metadata": {
        "id": "tQLEKTib_zg_"
      }
    },
    {
      "cell_type": "code",
      "source": [
        "# 4. Exploratory Data Analysis (EDA)\n",
        "\n",
        "# distribuce teploty\n",
        "sns.histplot(df['Temperature'], bins=30, kde=True)\n",
        "plt.show()\n",
        "\n",
        "# korelační matice\n",
        "plt.figure(figsize=(10,6))\n",
        "sns.heatmap(df.corr(numeric_only=True), annot=True, cmap=\"coolwarm\")\n",
        "plt.show()\n"
      ],
      "metadata": {
        "colab": {
          "base_uri": "https://localhost:8080/",
          "height": 960
        },
        "id": "bTH4uoVZOGQb",
        "outputId": "f74ad840-e525-4382-942e-694fb2724f82"
      },
      "execution_count": 9,
      "outputs": [
        {
          "output_type": "display_data",
          "data": {
            "text/plain": [
              "<Figure size 640x480 with 1 Axes>"
            ],
            "image/png": "[encoded data removed]"
          },
          "metadata": {}
        },
        {
          "output_type": "display_data",
          "data": {
            "text/plain": [
              "<Figure size 1000x600 with 2 Axes>"
            ],
            "image/png": "[encoded data removed]"
          },
          "metadata": {}
        }
      ]
    },
    {
      "cell_type": "markdown",
      "source": [
        "Tento blok dělá 2 věci:\n",
        "\n",
        "Ukáže, jak jsou teploty rozložené (histogram).\n",
        "\n",
        "Ukáže, jak spolu všechny číselné znaky souvisí (korelační matice)."
      ],
      "metadata": {
        "id": "CG8e4eLv_7P7"
      }
    },
    {
      "cell_type": "markdown",
      "source": [
        "**Histogram teploty:**\n",
        "\n",
        "\n",
        "Rozdělení hodnot teploty je poměrně rovnoměrné v intervalu 10–35 °C. Neexistuje žádná výrazná koncentrace na jedné hodnotě, takže model bude mít data z celého rozsahu teplot.\n",
        "\n",
        "**Korelační matice:**\n",
        "\n",
        "\n",
        "- Mezi proměnnými Temperature, Humidity, Wind_Speed, Cloud_Cover, Pressure nejsou žádné silné korelace (hodnoty blízko 0).\n",
        "\n",
        "- To znamená, že jednotlivé znaky jsou na sobě relativně nezávislé → každý může přinést samostatnou informaci do modelu.\n",
        "\n",
        "- Sloupec Rain se nezobrazil, protože není numerický; pokud bychom ho převedli na 0/1, bylo by možné měřit jeho korelaci s ostatními faktory.\n",
        "\n",
        "**Krátké shrnutí:**\n",
        "\n",
        "Proměnné jsou navzájem jen slabě závislé a teplota má rovnoměrné rozložení. Dataset proto poskytuje stabilní základ pro trénink predikčního modelu počasí."
      ],
      "metadata": {
        "id": "MnmoJoxIX_9w"
      }
    },
    {
      "cell_type": "markdown",
      "source": [
        "# Převod sloupce 'Rain' na 0/1"
      ],
      "metadata": {
        "id": "Vn6HKaKHA-9x"
      }
    },
    {
      "cell_type": "code",
      "source": [
        "\n",
        "df[\"Rain\"] = df[\"Rain\"].map({\n",
        "    \"rain\": 1,\n",
        "    \"no rain\": 0\n",
        "}).astype(int)\n",
        "\n",
        "print(df[\"Rain\"].unique())   # [1 0]\n",
        "print(df[\"Rain\"].value_counts())"
      ],
      "metadata": {
        "colab": {
          "base_uri": "https://localhost:8080/"
        },
        "id": "tB2yZl5PKPvt",
        "outputId": "c51bab16-6163-46b8-e7f1-eb262e26cbaa"
      },
      "execution_count": 10,
      "outputs": [
        {
          "output_type": "stream",
          "name": "stdout",
          "text": [
            "[1 0]\n",
            "Rain\n",
            "0    2186\n",
            "1     314\n",
            "Name: count, dtype: int64\n"
          ]
        }
      ]
    },
    {
      "cell_type": "markdown",
      "source": [
        "# Vytváření proměnných"
      ],
      "metadata": {
        "id": "AELthf_OBD1-"
      }
    },
    {
      "cell_type": "code",
      "source": [
        "\n",
        "y = df[\"Rain\"].astype(int)\n",
        "X = df.drop(columns=[\"Rain\"])\n"
      ],
      "metadata": {
        "id": "QM9-X5lxKdQM"
      },
      "execution_count": 11,
      "outputs": []
    },
    {
      "cell_type": "code",
      "source": [
        "# 1) Train/Test split\n",
        "X_train, X_test, y_train, y_test = train_test_split(\n",
        "    X, y, test_size=0.25, random_state=42, stratify=y\n",
        ")"
      ],
      "metadata": {
        "id": "mVFGTeMEK6ii"
      },
      "execution_count": 12,
      "outputs": []
    },
    {
      "cell_type": "markdown",
      "source": [
        "# Pomocné funkce hodnocení"
      ],
      "metadata": {
        "id": "YZQUqOhtBNan"
      }
    },
    {
      "cell_type": "code",
      "source": [
        "def evaluate_clf(model, X_te, y_te, probs_ok=True, name=\"model\"):\n",
        "    y_pred = model.predict(X_te)\n",
        "    if probs_ok:\n",
        "        try:\n",
        "            y_proba = model.predict_proba(X_te)[:, 1]\n",
        "            auc = roc_auc_score(y_te, y_proba)\n",
        "        except Exception:\n",
        "            auc = np.nan\n",
        "    else:\n",
        "        auc = np.nan\n",
        "    return {\n",
        "        \"Model\": name,\n",
        "        \"Accuracy\": accuracy_score(y_te, y_pred),\n",
        "        \"Precision\": precision_score(y_te, y_pred, zero_division=0),\n",
        "        \"Recall\": recall_score(y_te, y_pred, zero_division=0),\n",
        "        \"F1\": f1_score(y_te, y_pred, zero_division=0),\n",
        "        \"ROC_AUC\": auc\n",
        "    }\n",
        "\n",
        "results = []"
      ],
      "metadata": {
        "id": "uLOEDmyzK-3R"
      },
      "execution_count": 13,
      "outputs": []
    },
    {
      "cell_type": "markdown",
      "source": [
        "# BASELINE — Logistic Regression"
      ],
      "metadata": {
        "id": "cp8V66_1BSay"
      }
    },
    {
      "cell_type": "code",
      "source": [
        "\n",
        "logreg_pipe = Pipeline(steps=[\n",
        "    (\"scaler\", StandardScaler()),\n",
        "    (\"clf\", LogisticRegression(max_iter=1000))\n",
        "])\n",
        "logreg_pipe.fit(X_train, y_train)\n",
        "\n",
        "res_logreg = evaluate_clf(logreg_pipe, X_test, y_test, probs_ok=True, name=\"LogisticRegression (baseline)\")\n",
        "results.append(res_logreg)\n",
        "\n",
        "print(\"=== Logistic Regression (baseline) ===\")\n",
        "from sklearn.metrics import classification_report\n",
        "print(classification_report(y_test, logreg_pipe.predict(X_test)))"
      ],
      "metadata": {
        "colab": {
          "base_uri": "https://localhost:8080/"
        },
        "id": "i3x0YH2pLQ2L",
        "outputId": "cd536d7c-6817-4c7d-b9ad-f693bc762285"
      },
      "execution_count": 14,
      "outputs": [
        {
          "output_type": "stream",
          "name": "stdout",
          "text": [
            "=== Logistic Regression (baseline) ===\n",
            "              precision    recall  f1-score   support\n",
            "\n",
            "           0       0.95      0.95      0.95       546\n",
            "           1       0.67      0.63      0.65        79\n",
            "\n",
            "    accuracy                           0.91       625\n",
            "   macro avg       0.81      0.79      0.80       625\n",
            "weighted avg       0.91      0.91      0.91       625\n",
            "\n"
          ]
        }
      ]
    },
    {
      "cell_type": "markdown",
      "source": [
        "# RandomForest — baseline (default)"
      ],
      "metadata": {
        "id": "L-OaAsZmBrkq"
      }
    },
    {
      "cell_type": "code",
      "source": [
        "rf_base = RandomForestClassifier(random_state=42, n_estimators=200)\n",
        "rf_base.fit(X_train, y_train)\n",
        "\n",
        "res_rf_base = evaluate_clf(rf_base, X_test, y_test, probs_ok=True, name=\"RandomForest (baseline)\")\n",
        "results.append(res_rf_base)\n",
        "\n",
        "print(\"=== RandomForest (baseline) ===\")\n",
        "print(classification_report(y_test, rf_base.predict(X_test)))"
      ],
      "metadata": {
        "colab": {
          "base_uri": "https://localhost:8080/"
        },
        "id": "qYKUj9EcL_Yb",
        "outputId": "0db414d6-49f3-4158-f594-5f763b0e7c70"
      },
      "execution_count": 15,
      "outputs": [
        {
          "output_type": "stream",
          "name": "stdout",
          "text": [
            "=== RandomForest (baseline) ===\n",
            "              precision    recall  f1-score   support\n",
            "\n",
            "           0       1.00      1.00      1.00       546\n",
            "           1       1.00      1.00      1.00        79\n",
            "\n",
            "    accuracy                           1.00       625\n",
            "   macro avg       1.00      1.00      1.00       625\n",
            "weighted avg       1.00      1.00      1.00       625\n",
            "\n"
          ]
        }
      ]
    },
    {
      "cell_type": "markdown",
      "source": [
        "# RandomForest — GridSearchCV"
      ],
      "metadata": {
        "id": "CViZXyY9Buf_"
      }
    },
    {
      "cell_type": "code",
      "source": [
        "grid = {\n",
        "    \"n_estimators\": [100, 200, 500],\n",
        "    \"max_depth\": [None, 5, 10, 15],\n",
        "    \"max_features\": [\"sqrt\", \"log2\"],\n",
        "    \"min_samples_split\": [2, 5, 10]\n",
        "}\n",
        "rf_gs = GridSearchCV(\n",
        "    RandomForestClassifier(random_state=42),\n",
        "    param_grid=grid,\n",
        "    cv=5,\n",
        "    n_jobs=-1,\n",
        "    scoring=\"f1\"\n",
        ")\n",
        "rf_gs.fit(X_train, y_train)\n",
        "\n",
        "best_rf_gs = rf_gs.best_estimator_\n",
        "res_rf_gs = evaluate_clf(best_rf_gs, X_test, y_test, probs_ok=True, name=f\"RandomForest (GridSearch) {rf_gs.best_params_}\")\n",
        "results.append(res_rf_gs)\n",
        "\n",
        "print(\"=== RandomForest (GridSearch) ===\")\n",
        "print(\"Best params:\", rf_gs.best_params_)\n",
        "print(classification_report(y_test, best_rf_gs.predict(X_test)))"
      ],
      "metadata": {
        "colab": {
          "base_uri": "https://localhost:8080/"
        },
        "id": "xnN58qL1Pbsu",
        "outputId": "026fe68f-3af8-442e-ea1b-e601bef35a7f"
      },
      "execution_count": 16,
      "outputs": [
        {
          "output_type": "stream",
          "name": "stdout",
          "text": [
            "=== RandomForest (GridSearch) ===\n",
            "Best params: {'max_depth': None, 'max_features': 'sqrt', 'min_samples_split': 2, 'n_estimators': 100}\n",
            "              precision    recall  f1-score   support\n",
            "\n",
            "           0       1.00      1.00      1.00       546\n",
            "           1       1.00      1.00      1.00        79\n",
            "\n",
            "    accuracy                           1.00       625\n",
            "   macro avg       1.00      1.00      1.00       625\n",
            "weighted avg       1.00      1.00      1.00       625\n",
            "\n"
          ]
        }
      ]
    },
    {
      "cell_type": "markdown",
      "source": [
        "# RandomForest — RandomizedSearchCV"
      ],
      "metadata": {
        "id": "lEpvc4JBB1i7"
      }
    },
    {
      "cell_type": "code",
      "source": [
        "rand_dist = {\n",
        "    \"n_estimators\": randint(100, 800),\n",
        "    \"max_depth\": [None] + list(range(3, 21)),\n",
        "    \"max_features\": [\"sqrt\", \"log2\"],\n",
        "    \"min_samples_split\": randint(2, 20),\n",
        "    \"min_samples_leaf\": randint(1, 10)\n",
        "}\n",
        "rf_rs = RandomizedSearchCV(\n",
        "    RandomForestClassifier(random_state=42),\n",
        "    param_distributions=rand_dist,\n",
        "    n_iter=50,\n",
        "    cv=5,\n",
        "    n_jobs=-1,\n",
        "    scoring=\"f1\",\n",
        "    random_state=42\n",
        ")\n",
        "rf_rs.fit(X_train, y_train)\n",
        "\n",
        "best_rf_rs = rf_rs.best_estimator_\n",
        "res_rf_rs = evaluate_clf(best_rf_rs, X_test, y_test, probs_ok=True, name=f\"RandomForest (RandomSearch) {rf_rs.best_params_}\")\n",
        "results.append(res_rf_rs)\n",
        "\n",
        "print(\"=== RandomForest (RandomizedSearch) ===\")\n",
        "print(\"Best params:\", rf_rs.best_params_)\n",
        "print(classification_report(y_test, best_rf_rs.predict(X_test)))"
      ],
      "metadata": {
        "colab": {
          "base_uri": "https://localhost:8080/"
        },
        "id": "YUHhM2oKPpc8",
        "outputId": "45a732d2-d92b-4dfc-9a0e-212aae311931"
      },
      "execution_count": 17,
      "outputs": [
        {
          "output_type": "stream",
          "name": "stdout",
          "text": [
            "=== RandomForest (RandomizedSearch) ===\n",
            "Best params: {'max_depth': 8, 'max_features': 'log2', 'min_samples_leaf': 8, 'min_samples_split': 8, 'n_estimators': 221}\n",
            "              precision    recall  f1-score   support\n",
            "\n",
            "           0       1.00      1.00      1.00       546\n",
            "           1       1.00      1.00      1.00        79\n",
            "\n",
            "    accuracy                           1.00       625\n",
            "   macro avg       1.00      1.00      1.00       625\n",
            "weighted avg       1.00      1.00      1.00       625\n",
            "\n"
          ]
        }
      ]
    },
    {
      "cell_type": "markdown",
      "source": [
        "# XGBoost — baseline"
      ],
      "metadata": {
        "id": "geag7HRRQ-up"
      }
    },
    {
      "cell_type": "code",
      "source": [
        "\n",
        "xgb_clf = xgb.XGBClassifier(\n",
        "    eval_metric=\"logloss\",\n",
        "    n_estimators=400,\n",
        "    max_depth=4,\n",
        "    learning_rate=0.05,\n",
        "    subsample=0.9,\n",
        "    colsample_bytree=0.9,\n",
        "    random_state=42\n",
        ")\n",
        "xgb_clf.fit(X_train, y_train)\n",
        "\n",
        "res_xgb = evaluate_clf(xgb_clf, X_test, y_test, probs_ok=True, name=\"XGBoost (baseline)\")\n",
        "results.append(res_xgb)\n",
        "\n",
        "print(\"=== XGBoost (baseline) ===\")\n",
        "print(classification_report(y_test, xgb_clf.predict(X_test)))"
      ],
      "metadata": {
        "colab": {
          "base_uri": "https://localhost:8080/"
        },
        "id": "e8M0F5HDPtk0",
        "outputId": "c5eadeea-88c4-44a1-8854-f76c6bc86caf"
      },
      "execution_count": 18,
      "outputs": [
        {
          "output_type": "stream",
          "name": "stdout",
          "text": [
            "=== XGBoost (baseline) ===\n",
            "              precision    recall  f1-score   support\n",
            "\n",
            "           0       1.00      1.00      1.00       546\n",
            "           1       0.98      1.00      0.99        79\n",
            "\n",
            "    accuracy                           1.00       625\n",
            "   macro avg       0.99      1.00      0.99       625\n",
            "weighted avg       1.00      1.00      1.00       625\n",
            "\n"
          ]
        }
      ]
    },
    {
      "cell_type": "markdown",
      "source": [
        "# Souhrnná tabulka metrik"
      ],
      "metadata": {
        "id": "KQbnIm8hRGSl"
      }
    },
    {
      "cell_type": "code",
      "source": [
        "results_df = pd.DataFrame(results).sort_values(by=\"F1\", ascending=False)\n",
        "results_df.reset_index(drop=True, inplace=True)\n",
        "results_df"
      ],
      "metadata": {
        "colab": {
          "base_uri": "https://localhost:8080/",
          "height": 206
        },
        "id": "evGTrxszPvKq",
        "outputId": "c54e6bb5-63d9-40a0-cdba-6c19713a26ce"
      },
      "execution_count": 19,
      "outputs": [
        {
          "output_type": "execute_result",
          "data": {
            "text/plain": [
              "                                               Model  Accuracy  Precision  \\\n",
              "0                            RandomForest (baseline)    1.0000   1.000000   \n",
              "1  RandomForest (RandomSearch) {'max_depth': 8, '...    1.0000   1.000000   \n",
              "2  RandomForest (GridSearch) {'max_depth': None, ...    1.0000   1.000000   \n",
              "3                                 XGBoost (baseline)    0.9968   0.975309   \n",
              "4                      LogisticRegression (baseline)    0.9136   0.666667   \n",
              "\n",
              "     Recall        F1   ROC_AUC  \n",
              "0  1.000000  1.000000  1.000000  \n",
              "1  1.000000  1.000000  1.000000  \n",
              "2  1.000000  1.000000  1.000000  \n",
              "3  1.000000  0.987500  1.000000  \n",
              "4  0.632911  0.649351  0.957481  "
            ],
            "text/html": [
              "\n",
              "  <div id=\"df-eb3ad4c0-581b-4030-a23e-d28cb03c8f0e\" class=\"colab-df-container\">\n",
              "    <div>\n",
              "<style scoped>\n",
              "    .dataframe tbody tr th:only-of-type {\n",
              "        vertical-align: middle;\n",
              "    }\n",
              "\n",
              "    .dataframe tbody tr th {\n",
              "        vertical-align: top;\n",
              "    }\n",
              "\n",
              "    .dataframe thead th {\n",
              "        text-align: right;\n",
              "    }\n",
              "</style>\n",
              "<table border=\"1\" class=\"dataframe\">\n",
              "  <thead>\n",
              "    <tr style=\"text-align: right;\">\n",
              "      <th></th>\n",
              "      <th>Model</th>\n",
              "      <th>Accuracy</th>\n",
              "      <th>Precision</th>\n",
              "      <th>Recall</th>\n",
              "      <th>F1</th>\n",
              "      <th>ROC_AUC</th>\n",
              "    </tr>\n",
              "  </thead>\n",
              "  <tbody>\n",
              "    <tr>\n",
              "      <th>0</th>\n",
              "      <td>RandomForest (baseline)</td>\n",
              "      <td>1.0000</td>\n",
              "      <td>1.000000</td>\n",
              "      <td>1.000000</td>\n",
              "      <td>1.000000</td>\n",
              "      <td>1.000000</td>\n",
              "    </tr>\n",
              "    <tr>\n",
              "      <th>1</th>\n",
              "      <td>RandomForest (RandomSearch) {'max_depth': 8, '...</td>\n",
              "      <td>1.0000</td>\n",
              "      <td>1.000000</td>\n",
              "      <td>1.000000</td>\n",
              "      <td>1.000000</td>\n",
              "      <td>1.000000</td>\n",
              "    </tr>\n",
              "    <tr>\n",
              "      <th>2</th>\n",
              "      <td>RandomForest (GridSearch) {'max_depth': None, ...</td>\n",
              "      <td>1.0000</td>\n",
              "      <td>1.000000</td>\n",
              "      <td>1.000000</td>\n",
              "      <td>1.000000</td>\n",
              "      <td>1.000000</td>\n",
              "    </tr>\n",
              "    <tr>\n",
              "      <th>3</th>\n",
              "      <td>XGBoost (baseline)</td>\n",
              "      <td>0.9968</td>\n",
              "      <td>0.975309</td>\n",
              "      <td>1.000000</td>\n",
              "      <td>0.987500</td>\n",
              "      <td>1.000000</td>\n",
              "    </tr>\n",
              "    <tr>\n",
              "      <th>4</th>\n",
              "      <td>LogisticRegression (baseline)</td>\n",
              "      <td>0.9136</td>\n",
              "      <td>0.666667</td>\n",
              "      <td>0.632911</td>\n",
              "      <td>0.649351</td>\n",
              "      <td>0.957481</td>\n",
              "    </tr>\n",
              "  </tbody>\n",
              "</table>\n",
              "</div>\n",
              "    <div class=\"colab-df-buttons\">\n",
              "\n",
              "  <div class=\"colab-df-container\">\n",
              "    <button class=\"colab-df-convert\" onclick=\"convertToInteractive('df-eb3ad4c0-581b-4030-a23e-d28cb03c8f0e')\"\n",
              "            title=\"Convert this dataframe to an interactive table.\"\n",
              "            style=\"display:none;\">\n",
              "\n",
              "  <svg xmlns=\"http://www.w3.org/2000/svg\" height=\"24px\" viewBox=\"0 -960 960 960\">\n",
              "    <path d=\"M120-120v-720h720v720H120Zm60-500h600v-160H180v160Zm220 220h160v-160H400v160Zm0 220h160v-160H400v160ZM180-400h160v-160H180v160Zm440 0h160v-160H620v160ZM180-180h160v-160H180v160Zm440 0h160v-160H620v160Z\"/>\n",
              "  </svg>\n",
              "    </button>\n",
              "\n",
              "  <style>\n",
              "    .colab-df-container {\n",
              "      display:flex;\n",
              "      gap: 12px;\n",
              "    }\n",
              "\n",
              "    .colab-df-convert {\n",
              "      background-color: #E8F0FE;\n",
              "      border: none;\n",
              "      border-radius: 50%;\n",
              "      cursor: pointer;\n",
              "      display: none;\n",
              "      fill: #1967D2;\n",
              "      height: 32px;\n",
              "      padding: 0 0 0 0;\n",
              "      width: 32px;\n",
              "    }\n",
              "\n",
              "    .colab-df-convert:hover {\n",
              "      background-color: #E2EBFA;\n",
              "      box-shadow: 0px 1px 2px rgba(60, 64, 67, 0.3), 0px 1px 3px 1px rgba(60, 64, 67, 0.15);\n",
              "      fill: #174EA6;\n",
              "    }\n",
              "\n",
              "    .colab-df-buttons div {\n",
              "      margin-bottom: 4px;\n",
              "    }\n",
              "\n",
              "    [theme=dark] .colab-df-convert {\n",
              "      background-color: #3B4455;\n",
              "      fill: #D2E3FC;\n",
              "    }\n",
              "\n",
              "    [theme=dark] .colab-df-convert:hover {\n",
              "      background-color: #434B5C;\n",
              "      box-shadow: 0px 1px 3px 1px rgba(0, 0, 0, 0.15);\n",
              "      filter: drop-shadow(0px 1px 2px rgba(0, 0, 0, 0.3));\n",
              "      fill: #FFFFFF;\n",
              "    }\n",
              "  </style>\n",
              "\n",
              "    <script>\n",
              "      const buttonEl =\n",
              "        document.querySelector('#df-eb3ad4c0-581b-4030-a23e-d28cb03c8f0e button.colab-df-convert');\n",
              "      buttonEl.style.display =\n",
              "        google.colab.kernel.accessAllowed ? 'block' : 'none';\n",
              "\n",
              "      async function convertToInteractive(key) {\n",
              "        const element = document.querySelector('#df-eb3ad4c0-581b-4030-a23e-d28cb03c8f0e');\n",
              "        const dataTable =\n",
              "          await google.colab.kernel.invokeFunction('convertToInteractive',\n",
              "                                                    [key], {});\n",
              "        if (!dataTable) return;\n",
              "\n",
              "        const docLinkHtml = 'Like what you see? Visit the ' +\n",
              "          '<a target=\"_blank\" href=https://colab.research.google.com/notebooks/data_table.ipynb>data table notebook</a>'\n",
              "          + ' to learn more about interactive tables.';\n",
              "        element.innerHTML = '';\n",
              "        dataTable['output_type'] = 'display_data';\n",
              "        await google.colab.output.renderOutput(dataTable, element);\n",
              "        const docLink = document.createElement('div');\n",
              "        docLink.innerHTML = docLinkHtml;\n",
              "        element.appendChild(docLink);\n",
              "      }\n",
              "    </script>\n",
              "  </div>\n",
              "\n",
              "\n",
              "    <div id=\"df-f49ee6ed-75f4-414c-a702-2e79058f18c0\">\n",
              "      <button class=\"colab-df-quickchart\" onclick=\"quickchart('df-f49ee6ed-75f4-414c-a702-2e79058f18c0')\"\n",
              "                title=\"Suggest charts\"\n",
              "                style=\"display:none;\">\n",
              "\n",
              "<svg xmlns=\"http://www.w3.org/2000/svg\" height=\"24px\"viewBox=\"0 0 24 24\"\n",
              "     width=\"24px\">\n",
              "    <g>\n",
              "        <path d=\"M19 3H5c-1.1 0-2 .9-2 2v14c0 1.1.9 2 2 2h14c1.1 0 2-.9 2-2V5c0-1.1-.9-2-2-2zM9 17H7v-7h2v7zm4 0h-2V7h2v10zm4 0h-2v-4h2v4z\"/>\n",
              "    </g>\n",
              "</svg>\n",
              "      </button>\n",
              "\n",
              "<style>\n",
              "  .colab-df-quickchart {\n",
              "      --bg-color: #E8F0FE;\n",
              "      --fill-color: #1967D2;\n",
              "      --hover-bg-color: #E2EBFA;\n",
              "      --hover-fill-color: #174EA6;\n",
              "      --disabled-fill-color: #AAA;\n",
              "      --disabled-bg-color: #DDD;\n",
              "  }\n",
              "\n",
              "  [theme=dark] .colab-df-quickchart {\n",
              "      --bg-color: #3B4455;\n",
              "      --fill-color: #D2E3FC;\n",
              "      --hover-bg-color: #434B5C;\n",
              "      --hover-fill-color: #FFFFFF;\n",
              "      --disabled-bg-color: #3B4455;\n",
              "      --disabled-fill-color: #666;\n",
              "  }\n",
              "\n",
              "  .colab-df-quickchart {\n",
              "    background-color: var(--bg-color);\n",
              "    border: none;\n",
              "    border-radius: 50%;\n",
              "    cursor: pointer;\n",
              "    display: none;\n",
              "    fill: var(--fill-color);\n",
              "    height: 32px;\n",
              "    padding: 0;\n",
              "    width: 32px;\n",
              "  }\n",
              "\n",
              "  .colab-df-quickchart:hover {\n",
              "    background-color: var(--hover-bg-color);\n",
              "    box-shadow: 0 1px 2px rgba(60, 64, 67, 0.3), 0 1px 3px 1px rgba(60, 64, 67, 0.15);\n",
              "    fill: var(--button-hover-fill-color);\n",
              "  }\n",
              "\n",
              "  .colab-df-quickchart-complete:disabled,\n",
              "  .colab-df-quickchart-complete:disabled:hover {\n",
              "    background-color: var(--disabled-bg-color);\n",
              "    fill: var(--disabled-fill-color);\n",
              "    box-shadow: none;\n",
              "  }\n",
              "\n",
              "  .colab-df-spinner {\n",
              "    border: 2px solid var(--fill-color);\n",
              "    border-color: transparent;\n",
              "    border-bottom-color: var(--fill-color);\n",
              "    animation:\n",
              "      spin 1s steps(1) infinite;\n",
              "  }\n",
              "\n",
              "  @keyframes spin {\n",
              "    0% {\n",
              "      border-color: transparent;\n",
              "      border-bottom-color: var(--fill-color);\n",
              "      border-left-color: var(--fill-color);\n",
              "    }\n",
              "    20% {\n",
              "      border-color: transparent;\n",
              "      border-left-color: var(--fill-color);\n",
              "      border-top-color: var(--fill-color);\n",
              "    }\n",
              "    30% {\n",
              "      border-color: transparent;\n",
              "      border-left-color: var(--fill-color);\n",
              "      border-top-color: var(--fill-color);\n",
              "      border-right-color: var(--fill-color);\n",
              "    }\n",
              "    40% {\n",
              "      border-color: transparent;\n",
              "      border-right-color: var(--fill-color);\n",
              "      border-top-color: var(--fill-color);\n",
              "    }\n",
              "    60% {\n",
              "      border-color: transparent;\n",
              "      border-right-color: var(--fill-color);\n",
              "    }\n",
              "    80% {\n",
              "      border-color: transparent;\n",
              "      border-right-color: var(--fill-color);\n",
              "      border-bottom-color: var(--fill-color);\n",
              "    }\n",
              "    90% {\n",
              "      border-color: transparent;\n",
              "      border-bottom-color: var(--fill-color);\n",
              "    }\n",
              "  }\n",
              "</style>\n",
              "\n",
              "      <script>\n",
              "        async function quickchart(key) {\n",
              "          const quickchartButtonEl =\n",
              "            document.querySelector('#' + key + ' button');\n",
              "          quickchartButtonEl.disabled = true;  // To prevent multiple clicks.\n",
              "          quickchartButtonEl.classList.add('colab-df-spinner');\n",
              "          try {\n",
              "            const charts = await google.colab.kernel.invokeFunction(\n",
              "                'suggestCharts', [key], {});\n",
              "          } catch (error) {\n",
              "            console.error('Error during call to suggestCharts:', error);\n",
              "          }\n",
              "          quickchartButtonEl.classList.remove('colab-df-spinner');\n",
              "          quickchartButtonEl.classList.add('colab-df-quickchart-complete');\n",
              "        }\n",
              "        (() => {\n",
              "          let quickchartButtonEl =\n",
              "            document.querySelector('#df-f49ee6ed-75f4-414c-a702-2e79058f18c0 button');\n",
              "          quickchartButtonEl.style.display =\n",
              "            google.colab.kernel.accessAllowed ? 'block' : 'none';\n",
              "        })();\n",
              "      </script>\n",
              "    </div>\n",
              "\n",
              "  <div id=\"id_0ef858c8-df0b-4279-893e-7466274228ce\">\n",
              "    <style>\n",
              "      .colab-df-generate {\n",
              "        background-color: #E8F0FE;\n",
              "        border: none;\n",
              "        border-radius: 50%;\n",
              "        cursor: pointer;\n",
              "        display: none;\n",
              "        fill: #1967D2;\n",
              "        height: 32px;\n",
              "        padding: 0 0 0 0;\n",
              "        width: 32px;\n",
              "      }\n",
              "\n",
              "      .colab-df-generate:hover {\n",
              "        background-color: #E2EBFA;\n",
              "        box-shadow: 0px 1px 2px rgba(60, 64, 67, 0.3), 0px 1px 3px 1px rgba(60, 64, 67, 0.15);\n",
              "        fill: #174EA6;\n",
              "      }\n",
              "\n",
              "      [theme=dark] .colab-df-generate {\n",
              "        background-color: #3B4455;\n",
              "        fill: #D2E3FC;\n",
              "      }\n",
              "\n",
              "      [theme=dark] .colab-df-generate:hover {\n",
              "        background-color: #434B5C;\n",
              "        box-shadow: 0px 1px 3px 1px rgba(0, 0, 0, 0.15);\n",
              "        filter: drop-shadow(0px 1px 2px rgba(0, 0, 0, 0.3));\n",
              "        fill: #FFFFFF;\n",
              "      }\n",
              "    </style>\n",
              "    <button class=\"colab-df-generate\" onclick=\"generateWithVariable('results_df')\"\n",
              "            title=\"Generate code using this dataframe.\"\n",
              "            style=\"display:none;\">\n",
              "\n",
              "  <svg xmlns=\"http://www.w3.org/2000/svg\" height=\"24px\"viewBox=\"0 0 24 24\"\n",
              "       width=\"24px\">\n",
              "    <path d=\"M7,19H8.4L18.45,9,17,7.55,7,17.6ZM5,21V16.75L18.45,3.32a2,2,0,0,1,2.83,0l1.4,1.43a1.91,1.91,0,0,1,.58,1.4,1.91,1.91,0,0,1-.58,1.4L9.25,21ZM18.45,9,17,7.55Zm-12,3A5.31,5.31,0,0,0,4.9,8.1,5.31,5.31,0,0,0,1,6.5,5.31,5.31,0,0,0,4.9,4.9,5.31,5.31,0,0,0,6.5,1,5.31,5.31,0,0,0,8.1,4.9,5.31,5.31,0,0,0,12,6.5,5.46,5.46,0,0,0,6.5,12Z\"/>\n",
              "  </svg>\n",
              "    </button>\n",
              "    <script>\n",
              "      (() => {\n",
              "      const buttonEl =\n",
              "        document.querySelector('#id_0ef858c8-df0b-4279-893e-7466274228ce button.colab-df-generate');\n",
              "      buttonEl.style.display =\n",
              "        google.colab.kernel.accessAllowed ? 'block' : 'none';\n",
              "\n",
              "      buttonEl.onclick = () => {\n",
              "        google.colab.notebook.generateWithVariable('results_df');\n",
              "      }\n",
              "      })();\n",
              "    </script>\n",
              "  </div>\n",
              "\n",
              "    </div>\n",
              "  </div>\n"
            ],
            "application/vnd.google.colaboratory.intrinsic+json": {
              "type": "dataframe",
              "variable_name": "results_df",
              "summary": "{\n  \"name\": \"results_df\",\n  \"rows\": 5,\n  \"fields\": [\n    {\n      \"column\": \"Model\",\n      \"properties\": {\n        \"dtype\": \"string\",\n        \"num_unique_values\": 5,\n        \"samples\": [\n          \"RandomForest (RandomSearch) {'max_depth': 8, 'max_features': 'log2', 'min_samples_leaf': 8, 'min_samples_split': 8, 'n_estimators': 221}\",\n          \"LogisticRegression (baseline)\",\n          \"RandomForest (GridSearch) {'max_depth': None, 'max_features': 'sqrt', 'min_samples_split': 2, 'n_estimators': 100}\"\n        ],\n        \"semantic_type\": \"\",\n        \"description\": \"\"\n      }\n    },\n    {\n      \"column\": \"Accuracy\",\n      \"properties\": {\n        \"dtype\": \"number\",\n        \"std\": 0.03830655296421229,\n        \"min\": 0.9136,\n        \"max\": 1.0,\n        \"num_unique_values\": 3,\n        \"samples\": [\n          1.0,\n          0.9968,\n          0.9136\n        ],\n        \"semantic_type\": \"\",\n        \"description\": \"\"\n      }\n    },\n    {\n      \"column\": \"Precision\",\n      \"properties\": {\n        \"dtype\": \"number\",\n        \"std\": 0.14670074841988098,\n        \"min\": 0.6666666666666666,\n        \"max\": 1.0,\n        \"num_unique_values\": 3,\n        \"samples\": [\n          1.0,\n          0.9753086419753086,\n          0.6666666666666666\n        ],\n        \"semantic_type\": \"\",\n        \"description\": \"\"\n      }\n    },\n    {\n      \"column\": \"Recall\",\n      \"properties\": {\n        \"dtype\": \"number\",\n        \"std\": 0.1641670160696048,\n        \"min\": 0.6329113924050633,\n        \"max\": 1.0,\n        \"num_unique_values\": 2,\n        \"samples\": [\n          0.6329113924050633,\n          1.0\n        ],\n        \"semantic_type\": \"\",\n        \"description\": \"\"\n      }\n    },\n    {\n      \"column\": \"F1\",\n      \"properties\": {\n        \"dtype\": \"number\",\n        \"std\": 0.15551183792191053,\n        \"min\": 0.6493506493506493,\n        \"max\": 1.0,\n        \"num_unique_values\": 3,\n        \"samples\": [\n          1.0,\n          0.9875\n        ],\n        \"semantic_type\": \"\",\n        \"description\": \"\"\n      }\n    },\n    {\n      \"column\": \"ROC_AUC\",\n      \"properties\": {\n        \"dtype\": \"number\",\n        \"std\": 0.019014924054039074,\n        \"min\": 0.9574813372281727,\n        \"max\": 1.0,\n        \"num_unique_values\": 2,\n        \"samples\": [\n          0.9574813372281727,\n          1.0\n        ],\n        \"semantic_type\": \"\",\n        \"description\": \"\"\n      }\n    }\n  ]\n}"
            }
          },
          "metadata": {},
          "execution_count": 19
        }
      ]
    },
    {
      "cell_type": "markdown",
      "source": [
        "# Stratifikovaná křížová validace (stratified cross-validation)"
      ],
      "metadata": {
        "id": "HTwA_xJyRPKS"
      }
    },
    {
      "cell_type": "code",
      "source": [
        "\n",
        "X = df.drop(columns=[\"Rain\"])\n",
        "y = df[\"Rain\"].astype(int)\n",
        "\n",
        "cv = StratifiedKFold(n_splits=5, shuffle=True, random_state=42)\n",
        "\n",
        "def cv_report(model, X, y, name):\n",
        "    scorers = {\n",
        "        \"ACC\": make_scorer(accuracy_score),\n",
        "        \"F1\": make_scorer(f1_score),\n",
        "        \"PREC\": make_scorer(precision_score, zero_division=0),\n",
        "        \"REC\": make_scorer(recall_score),\n",
        "        \"ROC_AUC\": \"roc_auc\"\n",
        "    }\n",
        "    out = {}\n",
        "    for metric_name, scorer in scorers.items():\n",
        "        scores = cross_val_score(model, X, y, scoring=scorer, cv=cv, n_jobs=-1)\n",
        "        out[metric_name+\"_mean\"] = scores.mean()\n",
        "        out[metric_name+\"_std\"]  = scores.std()\n",
        "    return pd.Series(out, name=name)\n",
        "\n",
        "# Logistická regrese se škálováním\n",
        "logreg = Pipeline([\n",
        "    (\"scaler\", StandardScaler()),\n",
        "    (\"clf\", LogisticRegression(max_iter=1000))\n",
        "])\n",
        "\n",
        "# Random Forest (stejné parametry jako v baseline)\n",
        "rf = RandomForestClassifier(n_estimators=200, random_state=42)\n",
        "\n",
        "cv_logreg = cv_report(logreg, X, y, \"LogReg (CV)\")\n",
        "cv_rf     = cv_report(rf, X, y, \"RF (CV)\")\n",
        "\n",
        "cv_df = pd.concat([cv_logreg, cv_rf], axis=1).T\n",
        "cv_df\n"
      ],
      "metadata": {
        "colab": {
          "base_uri": "https://localhost:8080/",
          "height": 125
        },
        "id": "Mb-D1wBJXQhO",
        "outputId": "4f8871fe-43ca-4a98-fd81-4703c28b2795"
      },
      "execution_count": 20,
      "outputs": [
        {
          "output_type": "execute_result",
          "data": {
            "text/plain": [
              "             ACC_mean   ACC_std   F1_mean    F1_std  PREC_mean  PREC_std  \\\n",
              "LogReg (CV)    0.9300  0.007155  0.697967  0.027416   0.764692  0.045139   \n",
              "RF (CV)        0.9992  0.000980  0.996800  0.003919   1.000000  0.000000   \n",
              "\n",
              "             REC_mean   REC_std  ROC_AUC_mean  ROC_AUC_std  \n",
              "LogReg (CV)  0.643369  0.028698       0.96466     0.004069  \n",
              "RF (CV)      0.993651  0.007776       1.00000     0.000000  "
            ],
            "text/html": [
              "\n",
              "  <div id=\"df-fd037d06-e8af-4adf-929b-b29422a6c0c7\" class=\"colab-df-container\">\n",
              "    <div>\n",
              "<style scoped>\n",
              "    .dataframe tbody tr th:only-of-type {\n",
              "        vertical-align: middle;\n",
              "    }\n",
              "\n",
              "    .dataframe tbody tr th {\n",
              "        vertical-align: top;\n",
              "    }\n",
              "\n",
              "    .dataframe thead th {\n",
              "        text-align: right;\n",
              "    }\n",
              "</style>\n",
              "<table border=\"1\" class=\"dataframe\">\n",
              "  <thead>\n",
              "    <tr style=\"text-align: right;\">\n",
              "      <th></th>\n",
              "      <th>ACC_mean</th>\n",
              "      <th>ACC_std</th>\n",
              "      <th>F1_mean</th>\n",
              "      <th>F1_std</th>\n",
              "      <th>PREC_mean</th>\n",
              "      <th>PREC_std</th>\n",
              "      <th>REC_mean</th>\n",
              "      <th>REC_std</th>\n",
              "      <th>ROC_AUC_mean</th>\n",
              "      <th>ROC_AUC_std</th>\n",
              "    </tr>\n",
              "  </thead>\n",
              "  <tbody>\n",
              "    <tr>\n",
              "      <th>LogReg (CV)</th>\n",
              "      <td>0.9300</td>\n",
              "      <td>0.007155</td>\n",
              "      <td>0.697967</td>\n",
              "      <td>0.027416</td>\n",
              "      <td>0.764692</td>\n",
              "      <td>0.045139</td>\n",
              "      <td>0.643369</td>\n",
              "      <td>0.028698</td>\n",
              "      <td>0.96466</td>\n",
              "      <td>0.004069</td>\n",
              "    </tr>\n",
              "    <tr>\n",
              "      <th>RF (CV)</th>\n",
              "      <td>0.9992</td>\n",
              "      <td>0.000980</td>\n",
              "      <td>0.996800</td>\n",
              "      <td>0.003919</td>\n",
              "      <td>1.000000</td>\n",
              "      <td>0.000000</td>\n",
              "      <td>0.993651</td>\n",
              "      <td>0.007776</td>\n",
              "      <td>1.00000</td>\n",
              "      <td>0.000000</td>\n",
              "    </tr>\n",
              "  </tbody>\n",
              "</table>\n",
              "</div>\n",
              "    <div class=\"colab-df-buttons\">\n",
              "\n",
              "  <div class=\"colab-df-container\">\n",
              "    <button class=\"colab-df-convert\" onclick=\"convertToInteractive('df-fd037d06-e8af-4adf-929b-b29422a6c0c7')\"\n",
              "            title=\"Convert this dataframe to an interactive table.\"\n",
              "            style=\"display:none;\">\n",
              "\n",
              "  <svg xmlns=\"http://www.w3.org/2000/svg\" height=\"24px\" viewBox=\"0 -960 960 960\">\n",
              "    <path d=\"M120-120v-720h720v720H120Zm60-500h600v-160H180v160Zm220 220h160v-160H400v160Zm0 220h160v-160H400v160ZM180-400h160v-160H180v160Zm440 0h160v-160H620v160ZM180-180h160v-160H180v160Zm440 0h160v-160H620v160Z\"/>\n",
              "  </svg>\n",
              "    </button>\n",
              "\n",
              "  <style>\n",
              "    .colab-df-container {\n",
              "      display:flex;\n",
              "      gap: 12px;\n",
              "    }\n",
              "\n",
              "    .colab-df-convert {\n",
              "      background-color: #E8F0FE;\n",
              "      border: none;\n",
              "      border-radius: 50%;\n",
              "      cursor: pointer;\n",
              "      display: none;\n",
              "      fill: #1967D2;\n",
              "      height: 32px;\n",
              "      padding: 0 0 0 0;\n",
              "      width: 32px;\n",
              "    }\n",
              "\n",
              "    .colab-df-convert:hover {\n",
              "      background-color: #E2EBFA;\n",
              "      box-shadow: 0px 1px 2px rgba(60, 64, 67, 0.3), 0px 1px 3px 1px rgba(60, 64, 67, 0.15);\n",
              "      fill: #174EA6;\n",
              "    }\n",
              "\n",
              "    .colab-df-buttons div {\n",
              "      margin-bottom: 4px;\n",
              "    }\n",
              "\n",
              "    [theme=dark] .colab-df-convert {\n",
              "      background-color: #3B4455;\n",
              "      fill: #D2E3FC;\n",
              "    }\n",
              "\n",
              "    [theme=dark] .colab-df-convert:hover {\n",
              "      background-color: #434B5C;\n",
              "      box-shadow: 0px 1px 3px 1px rgba(0, 0, 0, 0.15);\n",
              "      filter: drop-shadow(0px 1px 2px rgba(0, 0, 0, 0.3));\n",
              "      fill: #FFFFFF;\n",
              "    }\n",
              "  </style>\n",
              "\n",
              "    <script>\n",
              "      const buttonEl =\n",
              "        document.querySelector('#df-fd037d06-e8af-4adf-929b-b29422a6c0c7 button.colab-df-convert');\n",
              "      buttonEl.style.display =\n",
              "        google.colab.kernel.accessAllowed ? 'block' : 'none';\n",
              "\n",
              "      async function convertToInteractive(key) {\n",
              "        const element = document.querySelector('#df-fd037d06-e8af-4adf-929b-b29422a6c0c7');\n",
              "        const dataTable =\n",
              "          await google.colab.kernel.invokeFunction('convertToInteractive',\n",
              "                                                    [key], {});\n",
              "        if (!dataTable) return;\n",
              "\n",
              "        const docLinkHtml = 'Like what you see? Visit the ' +\n",
              "          '<a target=\"_blank\" href=https://colab.research.google.com/notebooks/data_table.ipynb>data table notebook</a>'\n",
              "          + ' to learn more about interactive tables.';\n",
              "        element.innerHTML = '';\n",
              "        dataTable['output_type'] = 'display_data';\n",
              "        await google.colab.output.renderOutput(dataTable, element);\n",
              "        const docLink = document.createElement('div');\n",
              "        docLink.innerHTML = docLinkHtml;\n",
              "        element.appendChild(docLink);\n",
              "      }\n",
              "    </script>\n",
              "  </div>\n",
              "\n",
              "\n",
              "    <div id=\"df-ab4cd2e5-629c-4677-b25a-08057d4f3aa0\">\n",
              "      <button class=\"colab-df-quickchart\" onclick=\"quickchart('df-ab4cd2e5-629c-4677-b25a-08057d4f3aa0')\"\n",
              "                title=\"Suggest charts\"\n",
              "                style=\"display:none;\">\n",
              "\n",
              "<svg xmlns=\"http://www.w3.org/2000/svg\" height=\"24px\"viewBox=\"0 0 24 24\"\n",
              "     width=\"24px\">\n",
              "    <g>\n",
              "        <path d=\"M19 3H5c-1.1 0-2 .9-2 2v14c0 1.1.9 2 2 2h14c1.1 0 2-.9 2-2V5c0-1.1-.9-2-2-2zM9 17H7v-7h2v7zm4 0h-2V7h2v10zm4 0h-2v-4h2v4z\"/>\n",
              "    </g>\n",
              "</svg>\n",
              "      </button>\n",
              "\n",
              "<style>\n",
              "  .colab-df-quickchart {\n",
              "      --bg-color: #E8F0FE;\n",
              "      --fill-color: #1967D2;\n",
              "      --hover-bg-color: #E2EBFA;\n",
              "      --hover-fill-color: #174EA6;\n",
              "      --disabled-fill-color: #AAA;\n",
              "      --disabled-bg-color: #DDD;\n",
              "  }\n",
              "\n",
              "  [theme=dark] .colab-df-quickchart {\n",
              "      --bg-color: #3B4455;\n",
              "      --fill-color: #D2E3FC;\n",
              "      --hover-bg-color: #434B5C;\n",
              "      --hover-fill-color: #FFFFFF;\n",
              "      --disabled-bg-color: #3B4455;\n",
              "      --disabled-fill-color: #666;\n",
              "  }\n",
              "\n",
              "  .colab-df-quickchart {\n",
              "    background-color: var(--bg-color);\n",
              "    border: none;\n",
              "    border-radius: 50%;\n",
              "    cursor: pointer;\n",
              "    display: none;\n",
              "    fill: var(--fill-color);\n",
              "    height: 32px;\n",
              "    padding: 0;\n",
              "    width: 32px;\n",
              "  }\n",
              "\n",
              "  .colab-df-quickchart:hover {\n",
              "    background-color: var(--hover-bg-color);\n",
              "    box-shadow: 0 1px 2px rgba(60, 64, 67, 0.3), 0 1px 3px 1px rgba(60, 64, 67, 0.15);\n",
              "    fill: var(--button-hover-fill-color);\n",
              "  }\n",
              "\n",
              "  .colab-df-quickchart-complete:disabled,\n",
              "  .colab-df-quickchart-complete:disabled:hover {\n",
              "    background-color: var(--disabled-bg-color);\n",
              "    fill: var(--disabled-fill-color);\n",
              "    box-shadow: none;\n",
              "  }\n",
              "\n",
              "  .colab-df-spinner {\n",
              "    border: 2px solid var(--fill-color);\n",
              "    border-color: transparent;\n",
              "    border-bottom-color: var(--fill-color);\n",
              "    animation:\n",
              "      spin 1s steps(1) infinite;\n",
              "  }\n",
              "\n",
              "  @keyframes spin {\n",
              "    0% {\n",
              "      border-color: transparent;\n",
              "      border-bottom-color: var(--fill-color);\n",
              "      border-left-color: var(--fill-color);\n",
              "    }\n",
              "    20% {\n",
              "      border-color: transparent;\n",
              "      border-left-color: var(--fill-color);\n",
              "      border-top-color: var(--fill-color);\n",
              "    }\n",
              "    30% {\n",
              "      border-color: transparent;\n",
              "      border-left-color: var(--fill-color);\n",
              "      border-top-color: var(--fill-color);\n",
              "      border-right-color: var(--fill-color);\n",
              "    }\n",
              "    40% {\n",
              "      border-color: transparent;\n",
              "      border-right-color: var(--fill-color);\n",
              "      border-top-color: var(--fill-color);\n",
              "    }\n",
              "    60% {\n",
              "      border-color: transparent;\n",
              "      border-right-color: var(--fill-color);\n",
              "    }\n",
              "    80% {\n",
              "      border-color: transparent;\n",
              "      border-right-color: var(--fill-color);\n",
              "      border-bottom-color: var(--fill-color);\n",
              "    }\n",
              "    90% {\n",
              "      border-color: transparent;\n",
              "      border-bottom-color: var(--fill-color);\n",
              "    }\n",
              "  }\n",
              "</style>\n",
              "\n",
              "      <script>\n",
              "        async function quickchart(key) {\n",
              "          const quickchartButtonEl =\n",
              "            document.querySelector('#' + key + ' button');\n",
              "          quickchartButtonEl.disabled = true;  // To prevent multiple clicks.\n",
              "          quickchartButtonEl.classList.add('colab-df-spinner');\n",
              "          try {\n",
              "            const charts = await google.colab.kernel.invokeFunction(\n",
              "                'suggestCharts', [key], {});\n",
              "          } catch (error) {\n",
              "            console.error('Error during call to suggestCharts:', error);\n",
              "          }\n",
              "          quickchartButtonEl.classList.remove('colab-df-spinner');\n",
              "          quickchartButtonEl.classList.add('colab-df-quickchart-complete');\n",
              "        }\n",
              "        (() => {\n",
              "          let quickchartButtonEl =\n",
              "            document.querySelector('#df-ab4cd2e5-629c-4677-b25a-08057d4f3aa0 button');\n",
              "          quickchartButtonEl.style.display =\n",
              "            google.colab.kernel.accessAllowed ? 'block' : 'none';\n",
              "        })();\n",
              "      </script>\n",
              "    </div>\n",
              "\n",
              "  <div id=\"id_614273a1-40f7-4079-b39a-db6e619de97a\">\n",
              "    <style>\n",
              "      .colab-df-generate {\n",
              "        background-color: #E8F0FE;\n",
              "        border: none;\n",
              "        border-radius: 50%;\n",
              "        cursor: pointer;\n",
              "        display: none;\n",
              "        fill: #1967D2;\n",
              "        height: 32px;\n",
              "        padding: 0 0 0 0;\n",
              "        width: 32px;\n",
              "      }\n",
              "\n",
              "      .colab-df-generate:hover {\n",
              "        background-color: #E2EBFA;\n",
              "        box-shadow: 0px 1px 2px rgba(60, 64, 67, 0.3), 0px 1px 3px 1px rgba(60, 64, 67, 0.15);\n",
              "        fill: #174EA6;\n",
              "      }\n",
              "\n",
              "      [theme=dark] .colab-df-generate {\n",
              "        background-color: #3B4455;\n",
              "        fill: #D2E3FC;\n",
              "      }\n",
              "\n",
              "      [theme=dark] .colab-df-generate:hover {\n",
              "        background-color: #434B5C;\n",
              "        box-shadow: 0px 1px 3px 1px rgba(0, 0, 0, 0.15);\n",
              "        filter: drop-shadow(0px 1px 2px rgba(0, 0, 0, 0.3));\n",
              "        fill: #FFFFFF;\n",
              "      }\n",
              "    </style>\n",
              "    <button class=\"colab-df-generate\" onclick=\"generateWithVariable('cv_df')\"\n",
              "            title=\"Generate code using this dataframe.\"\n",
              "            style=\"display:none;\">\n",
              "\n",
              "  <svg xmlns=\"http://www.w3.org/2000/svg\" height=\"24px\"viewBox=\"0 0 24 24\"\n",
              "       width=\"24px\">\n",
              "    <path d=\"M7,19H8.4L18.45,9,17,7.55,7,17.6ZM5,21V16.75L18.45,3.32a2,2,0,0,1,2.83,0l1.4,1.43a1.91,1.91,0,0,1,.58,1.4,1.91,1.91,0,0,1-.58,1.4L9.25,21ZM18.45,9,17,7.55Zm-12,3A5.31,5.31,0,0,0,4.9,8.1,5.31,5.31,0,0,0,1,6.5,5.31,5.31,0,0,0,4.9,4.9,5.31,5.31,0,0,0,6.5,1,5.31,5.31,0,0,0,8.1,4.9,5.31,5.31,0,0,0,12,6.5,5.46,5.46,0,0,0,6.5,12Z\"/>\n",
              "  </svg>\n",
              "    </button>\n",
              "    <script>\n",
              "      (() => {\n",
              "      const buttonEl =\n",
              "        document.querySelector('#id_614273a1-40f7-4079-b39a-db6e619de97a button.colab-df-generate');\n",
              "      buttonEl.style.display =\n",
              "        google.colab.kernel.accessAllowed ? 'block' : 'none';\n",
              "\n",
              "      buttonEl.onclick = () => {\n",
              "        google.colab.notebook.generateWithVariable('cv_df');\n",
              "      }\n",
              "      })();\n",
              "    </script>\n",
              "  </div>\n",
              "\n",
              "    </div>\n",
              "  </div>\n"
            ],
            "application/vnd.google.colaboratory.intrinsic+json": {
              "type": "dataframe",
              "variable_name": "cv_df",
              "summary": "{\n  \"name\": \"cv_df\",\n  \"rows\": 2,\n  \"fields\": [\n    {\n      \"column\": \"ACC_mean\",\n      \"properties\": {\n        \"dtype\": \"number\",\n        \"std\": 0.048931789258109114,\n        \"min\": 0.93,\n        \"max\": 0.9992000000000001,\n        \"num_unique_values\": 2,\n        \"samples\": [\n          0.9992000000000001,\n          0.93\n        ],\n        \"semantic_type\": \"\",\n        \"description\": \"\"\n      }\n    },\n    {\n      \"column\": \"ACC_std\",\n      \"properties\": {\n        \"dtype\": \"number\",\n        \"std\": 0.004366823933241834,\n        \"min\": 0.0009797958971132722,\n        \"max\": 0.007155417527999297,\n        \"num_unique_values\": 2,\n        \"samples\": [\n          0.0009797958971132722,\n          0.007155417527999297\n        ],\n        \"semantic_type\": \"\",\n        \"description\": \"\"\n      }\n    },\n    {\n      \"column\": \"F1_mean\",\n      \"properties\": {\n        \"dtype\": \"number\",\n        \"std\": 0.2113069033281616,\n        \"min\": 0.6979669114902534,\n        \"max\": 0.9968,\n        \"num_unique_values\": 2,\n        \"samples\": [\n          0.9968,\n          0.6979669114902534\n        ],\n        \"semantic_type\": \"\",\n        \"description\": \"\"\n      }\n    },\n    {\n      \"column\": \"F1_std\",\n      \"properties\": {\n        \"dtype\": \"number\",\n        \"std\": 0.016614718919230484,\n        \"min\": 0.003919183588453088,\n        \"max\": 0.02741594441904569,\n        \"num_unique_values\": 2,\n        \"samples\": [\n          0.003919183588453088,\n          0.02741594441904569\n        ],\n        \"semantic_type\": \"\",\n        \"description\": \"\"\n      }\n    },\n    {\n      \"column\": \"PREC_mean\",\n      \"properties\": {\n        \"dtype\": \"number\",\n        \"std\": 0.16638821511017318,\n        \"min\": 0.7646915295721411,\n        \"max\": 1.0,\n        \"num_unique_values\": 2,\n        \"samples\": [\n          1.0,\n          0.7646915295721411\n        ],\n        \"semantic_type\": \"\",\n        \"description\": \"\"\n      }\n    },\n    {\n      \"column\": \"PREC_std\",\n      \"properties\": {\n        \"dtype\": \"number\",\n        \"std\": 0.031918419683987356,\n        \"min\": 0.0,\n        \"max\": 0.04513946200661128,\n        \"num_unique_values\": 2,\n        \"samples\": [\n          0.0,\n          0.04513946200661128\n        ],\n        \"semantic_type\": \"\",\n        \"description\": \"\"\n      }\n    },\n    {\n      \"column\": \"REC_mean\",\n      \"properties\": {\n        \"dtype\": \"number\",\n        \"std\": 0.24768650742945067,\n        \"min\": 0.6433691756272402,\n        \"max\": 0.9936507936507937,\n        \"num_unique_values\": 2,\n        \"samples\": [\n          0.9936507936507937,\n          0.6433691756272402\n        ],\n        \"semantic_type\": \"\",\n        \"description\": \"\"\n      }\n    },\n    {\n      \"column\": \"REC_std\",\n      \"properties\": {\n        \"dtype\": \"number\",\n        \"std\": 0.014793692319063816,\n        \"min\": 0.007776157913597417,\n        \"max\": 0.02869759822879215,\n        \"num_unique_values\": 2,\n        \"samples\": [\n          0.007776157913597417,\n          0.02869759822879215\n        ],\n        \"semantic_type\": \"\",\n        \"description\": \"\"\n      }\n    },\n    {\n      \"column\": \"ROC_AUC_mean\",\n      \"properties\": {\n        \"dtype\": \"number\",\n        \"std\": 0.024988891960440122,\n        \"min\": 0.9646603700808696,\n        \"max\": 1.0,\n        \"num_unique_values\": 2,\n        \"samples\": [\n          1.0,\n          0.9646603700808696\n        ],\n        \"semantic_type\": \"\",\n        \"description\": \"\"\n      }\n    },\n    {\n      \"column\": \"ROC_AUC_std\",\n      \"properties\": {\n        \"dtype\": \"number\",\n        \"std\": 0.002877464124298215,\n        \"min\": 0.0,\n        \"max\": 0.004069348789824557,\n        \"num_unique_values\": 2,\n        \"samples\": [\n          0.0,\n          0.004069348789824557\n        ],\n        \"semantic_type\": \"\",\n        \"description\": \"\"\n      }\n    }\n  ]\n}"
            }
          },
          "metadata": {},
          "execution_count": 20
        }
      ]
    },
    {
      "cell_type": "markdown",
      "source": [
        "**1) Logistic Regression (CV)**\n",
        "\n",
        "ACC_mean = 0.93 → model správně klasifikoval ~93 % případů.\n",
        "\n",
        "F1_mean = 0.698 → F1 je poměrně nižší, takže model není úplně vyvážený mezi precision a recall.\n",
        "\n",
        "PREC_mean = 0.765 → když model řekl „bude pršet“, v ~76 % měl pravdu.\n",
        "\n",
        "REC_mean = 0.643 → model zachytil jen ~64 % všech skutečných dešťů (některé mu unikly).\n",
        "\n",
        "ROC_AUC_mean = 0.965 → křivka ROC je vysoká, takže schopnost oddělit 0/1 je dobrá.\n",
        "\n",
        "👉 LogReg tedy funguje solidně, ale slabší je v recall (zachycení všech dešťů).\n",
        "\n",
        "\n",
        "**2) Random Forest (CV)**\n",
        "\n",
        "ACC_mean = 0.9992 → skoro dokonalá přesnost (prakticky 100 %).\n",
        "\n",
        "F1_mean = 0.997 → vyváženost mezi precision a recall téměř dokonalá.\n",
        "\n",
        "PREC_mean = 1.0 → model nikdy „zbytečně neřekl déšť“ (žádné false positives).\n",
        "\n",
        "REC_mean = 0.994 → zachytil skoro všechny skutečné deště.\n",
        "\n",
        "ROC_AUC_mean = 1.0 → perfektní oddělení tříd."
      ],
      "metadata": {
        "id": "jhbfLztTRhkz"
      }
    },
    {
      "cell_type": "markdown",
      "source": [
        "# ROC křivky (LogReg vs RandomForest) + AUC"
      ],
      "metadata": {
        "id": "-b6NGDtoRk3a"
      }
    },
    {
      "cell_type": "code",
      "source": [
        "# LogReg\n",
        "logreg = Pipeline([\n",
        "    (\"scaler\", StandardScaler()),\n",
        "    (\"clf\", LogisticRegression(max_iter=1000))\n",
        "])\n",
        "logreg.fit(X_train, y_train)\n",
        "proba_lr = logreg.predict_proba(X_test)[:,1]\n",
        "auc_lr = roc_auc_score(y_test, proba_lr)\n",
        "\n",
        "# RandomForest\n",
        "rf = RandomForestClassifier(n_estimators=200, random_state=42)\n",
        "rf.fit(X_train, y_train)\n",
        "proba_rf = rf.predict_proba(X_test)[:,1]\n",
        "auc_rf = roc_auc_score(y_test, proba_rf)\n",
        "\n",
        "fpr_lr, tpr_lr, _ = roc_curve(y_test, proba_lr)\n",
        "fpr_rf, tpr_rf, _ = roc_curve(y_test, proba_rf)\n",
        "\n",
        "plt.figure(figsize=(6,5))\n",
        "plt.plot(fpr_lr, tpr_lr, label=f\"LogReg (AUC={auc_lr:.3f})\")\n",
        "plt.plot(fpr_rf, tpr_rf, label=f\"RandomForest (AUC={auc_rf:.3f})\")\n",
        "plt.plot([0,1],[0,1],\"--\", alpha=0.5)\n",
        "plt.xlabel(\"False Positive Rate\")\n",
        "plt.ylabel(\"True Positive Rate\")\n",
        "plt.title(\"ROC curves\")\n",
        "plt.legend()\n",
        "plt.grid(True, alpha=0.3)\n",
        "plt.show()\n"
      ],
      "metadata": {
        "colab": {
          "base_uri": "https://localhost:8080/",
          "height": 487
        },
        "id": "Ec7hMGNKYAg4",
        "outputId": "f5a06455-8376-469c-d993-b17d42c4347d"
      },
      "execution_count": 21,
      "outputs": [
        {
          "output_type": "display_data",
          "data": {
            "text/plain": [
              "<Figure size 600x500 with 1 Axes>"
            ],
            "image/png": "[encoded data removed]"
          },
          "metadata": {}
        }
      ]
    },
    {
      "cell_type": "markdown",
      "source": [
        "🔹 ROC křivky\n",
        "\n",
        "LogReg: AUC ≈ 0,957 → dobrý výsledek, ale je vidět, že část „dešťů“ je matoucí.\n",
        "\n",
        "RF: AUC = 1,000 → ideální rozdělení.\n",
        "\n",
        "✅ Graf dobře ilustruje rozdíl – křivka RF je přitlačena k levému hornímu rohu."
      ],
      "metadata": {
        "id": "ST6gQ6fSbEoI"
      }
    },
    {
      "cell_type": "markdown",
      "source": [
        "# Význam znaků (RF/XGB) + Matice chyb"
      ],
      "metadata": {
        "id": "InBGE6jeRyox"
      }
    },
    {
      "cell_type": "code",
      "source": [
        "\n",
        "importances = pd.Series(rf.feature_importances_, index=X.columns).sort_values(ascending=True)\n",
        "\n",
        "plt.figure(figsize=(6,4))\n",
        "importances.plot(kind=\"barh\")\n",
        "plt.title(\"Feature Importance (RandomForest)\")\n",
        "plt.tight_layout()\n",
        "plt.show()\n",
        "\n",
        "# Matice chyb\n",
        "y_pred_lr = logreg.predict(X_test)\n",
        "y_pred_rf = rf.predict(X_test)\n",
        "\n",
        "fig, ax = plt.subplots(1,2, figsize=(10,4))\n",
        "ConfusionMatrixDisplay(confusion_matrix(y_test, y_pred_lr)).plot(ax=ax[0], colorbar=False)\n",
        "ax[0].set_title(\"Confusion Matrix - LogReg\")\n",
        "ConfusionMatrixDisplay(confusion_matrix(y_test, y_pred_rf)).plot(ax=ax[1], colorbar=False)\n",
        "ax[1].set_title(\"Confusion Matrix - RandomForest\")\n",
        "plt.tight_layout()\n",
        "plt.show()\n"
      ],
      "metadata": {
        "colab": {
          "base_uri": "https://localhost:8080/",
          "height": 797
        },
        "id": "20eRMK7wYSOc",
        "outputId": "ac9244d8-05d1-472f-feb8-fe1f5d32d4f3"
      },
      "execution_count": 22,
      "outputs": [
        {
          "output_type": "display_data",
          "data": {
            "text/plain": [
              "<Figure size 600x400 with 1 Axes>"
            ],
            "image/png": "[encoded data removed]"
          },
          "metadata": {}
        },
        {
          "output_type": "display_data",
          "data": {
            "text/plain": [
              "<Figure size 1000x400 with 2 Axes>"
            ],
            "image/png": "[encoded data removed]"
          },
          "metadata": {}
        }
      ]
    },
    {
      "cell_type": "markdown",
      "source": [
        "🔹 Význam znaků (RF)\n",
        "\n",
        "Hlavní faktory:\n",
        "\n",
        "1) Vlhkost (~0,38)\n",
        "\n",
        "2) Oblačnost (~0,32)\n",
        "\n",
        "3) Teplota (~0,23)\n",
        "→ Tlak a rychlost větru nemají téměř žádný vliv.\n",
        "\n",
        "✅ To se zcela shoduje s EDA (korelace).\n",
        "\n",
        "---------------------\n",
        "🔹 Matice chyb\n",
        "\n",
        "LogReg:\n",
        "\n",
        "* Chyby → 25 False Positive (řekla „rain“, ale nepršelo)\n",
        "\n",
        "* a 29 False Negative (řekla „no rain“, ale pršelo).\n",
        "→ To znamená, že model často zaměňuje „déšť“.\n",
        "\n",
        "RF:\n",
        "\n",
        "0 chyb: ideálně klasifikoval všech 625 příkladů."
      ],
      "metadata": {
        "id": "iQr8sDjJbJdT"
      }
    }
  ]
}